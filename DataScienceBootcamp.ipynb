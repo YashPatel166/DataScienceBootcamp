{
  "nbformat": 4,
  "nbformat_minor": 0,
  "metadata": {
    "colab": {
      "provenance": []
    },
    "kernelspec": {
      "name": "python3",
      "display_name": "Python 3"
    },
    "language_info": {
      "name": "python"
    }
  },
  "cells": [
    {
      "cell_type": "markdown",
      "source": [
        "1. Display Fibonacci Series upto 10 terms"
      ],
      "metadata": {
        "id": "wdFhh3Fk7hdz"
      }
    },
    {
      "cell_type": "code",
      "execution_count": 5,
      "metadata": {
        "colab": {
          "base_uri": "https://localhost:8080/"
        },
        "id": "cGU9B_3j7bg9",
        "outputId": "5c158972-470d-4432-d461-47bb6e5e78ec"
      },
      "outputs": [
        {
          "output_type": "stream",
          "name": "stdout",
          "text": [
            "0\n",
            "1\n",
            "1\n",
            "2\n",
            "3\n",
            "5\n",
            "8\n",
            "13\n",
            "21\n",
            "34\n"
          ]
        }
      ],
      "source": [
        "\n",
        "nterms = 10;\n",
        "n1, n2 = 0, 1\n",
        "count = 0\n",
        "while count < nterms:\n",
        "       print(n1)\n",
        "       nth = n1 + n2\n",
        "       n1 = n2\n",
        "       n2 = nth\n",
        "       count += 1"
      ]
    },
    {
      "cell_type": "markdown",
      "source": [
        "2. Display numbers at the odd indices of a list"
      ],
      "metadata": {
        "id": "mRbYcsbsANh1"
      }
    },
    {
      "cell_type": "code",
      "source": [
        "list1 = [1, 2, 3, 4, 5, 6, 7]\n",
        "even_num = []\n",
        "for i in range(0, len(list1)):\n",
        "    if i % 2:\n",
        "        even_num.append(list1[i])\n",
        "print(even_num)"
      ],
      "metadata": {
        "colab": {
          "base_uri": "https://localhost:8080/"
        },
        "id": "68uWPGSJEuFo",
        "outputId": "ff2cb355-580a-40b2-b5fe-bc6b87327dff"
      },
      "execution_count": 7,
      "outputs": [
        {
          "output_type": "stream",
          "name": "stdout",
          "text": [
            "[2, 4, 6]\n"
          ]
        }
      ]
    },
    {
      "cell_type": "markdown",
      "source": [
        "3. Print a list in reverse order"
      ],
      "metadata": {
        "id": "qXwpkSVzF1P9"
      }
    },
    {
      "cell_type": "code",
      "source": [
        "list1 = [1, 2, 3, 4, 5, 6, 7]\n",
        "list1.reverse()\n",
        "print(list1)"
      ],
      "metadata": {
        "colab": {
          "base_uri": "https://localhost:8080/"
        },
        "id": "Kud_HLUyF1gm",
        "outputId": "95f742cb-156e-41c0-f537-d5586361b3e7"
      },
      "execution_count": 8,
      "outputs": [
        {
          "output_type": "stream",
          "name": "stdout",
          "text": [
            "[7, 6, 5, 4, 3, 2, 1]\n"
          ]
        }
      ]
    },
    {
      "cell_type": "markdown",
      "source": [
        "4. Your task is to count the number of different words in this text"
      ],
      "metadata": {
        "id": "kKEzwO_mPYoI"
      }
    },
    {
      "cell_type": "code",
      "source": [
        "tstring = \"\"\"\n",
        "\tChatGPT has created this text to provide tips on creating interesting paragraphs.\n",
        "\tFirst, start with a clear topic sentence that introduces the main idea.\n",
        "\tThen, support the topic sentence with specific details, examples, and evidence.\n",
        "\tVary the sentence length and structure to keep the reader engaged.\n",
        "\tFinally, end with a strong concluding sentence that summarizes the main points.\n",
        "\tRemember, practice makes perfect!\n",
        "\t\"\"\"\n",
        "count = len(tstring.split())\n",
        "print(count)"
      ],
      "metadata": {
        "colab": {
          "base_uri": "https://localhost:8080/"
        },
        "id": "h7mR4_qnPYZj",
        "outputId": "aca10e84-ba32-4e05-8bc5-23f766f4021f"
      },
      "execution_count": 9,
      "outputs": [
        {
          "output_type": "stream",
          "name": "stdout",
          "text": [
            "62\n"
          ]
        }
      ]
    },
    {
      "cell_type": "markdown",
      "source": [
        "5. Write a function that takes a word as an argument and returns the number of vowels in the word"
      ],
      "metadata": {
        "id": "fYWGoqoZP_40"
      }
    },
    {
      "cell_type": "code",
      "source": [
        "def count_vowels(string1):\n",
        "    vowels = \"AEIOUaeiou\"\n",
        "    count = 0\n",
        "    for char in string1:\n",
        "        if char in vowels:\n",
        "            count += 1\n",
        "    return count\n",
        "string1 = \"NYU Tandon School of Engineering\"\n",
        "result = count_vowels(string1)\n",
        "print(result)"
      ],
      "metadata": {
        "colab": {
          "base_uri": "https://localhost:8080/"
        },
        "id": "xGtvu7DbQABr",
        "outputId": "cac94747-533b-4a98-c71e-b9709b607e6b"
      },
      "execution_count": 10,
      "outputs": [
        {
          "output_type": "stream",
          "name": "stdout",
          "text": [
            "11\n"
          ]
        }
      ]
    },
    {
      "cell_type": "markdown",
      "source": [
        "6. Iterate through the following list of animals and print each one in all caps."
      ],
      "metadata": {
        "id": "4Qq6GFVFTZVb"
      }
    },
    {
      "cell_type": "code",
      "source": [
        "animals = ['tiger', 'elephant', 'monkey', 'zebra', 'panther']\n",
        "for a in animals:\n",
        "    print(a.upper())"
      ],
      "metadata": {
        "colab": {
          "base_uri": "https://localhost:8080/"
        },
        "id": "tA2bPIxFTZdg",
        "outputId": "929476a6-08fd-40fe-c068-a03e20adf060"
      },
      "execution_count": 11,
      "outputs": [
        {
          "output_type": "stream",
          "name": "stdout",
          "text": [
            "TIGER\n",
            "ELEPHANT\n",
            "MONKEY\n",
            "ZEBRA\n",
            "PANTHER\n"
          ]
        }
      ]
    },
    {
      "cell_type": "markdown",
      "source": [
        "7. Iterate from 1 to 15, printing whether the number is odd or even"
      ],
      "metadata": {
        "id": "sbZKUmczTtCW"
      }
    },
    {
      "cell_type": "code",
      "source": [
        "for number in range(1, 16):\n",
        "    if number % 2 == 0:\n",
        "        print(number,\" is even\")\n",
        "    else:\n",
        "        print(number,\" is odd\")"
      ],
      "metadata": {
        "colab": {
          "base_uri": "https://localhost:8080/"
        },
        "id": "hkimf-3hTtMw",
        "outputId": "8613ec9e-3d74-4341-a815-d75799b4fee3"
      },
      "execution_count": 13,
      "outputs": [
        {
          "output_type": "stream",
          "name": "stdout",
          "text": [
            "1  is odd\n",
            "2  is even\n",
            "3  is odd\n",
            "4  is even\n",
            "5  is odd\n",
            "6  is even\n",
            "7  is odd\n",
            "8  is even\n",
            "9  is odd\n",
            "10  is even\n",
            "11  is odd\n",
            "12  is even\n",
            "13  is odd\n",
            "14  is even\n",
            "15  is odd\n"
          ]
        }
      ]
    },
    {
      "cell_type": "markdown",
      "source": [
        " 8. Take two integers as input from user and return the sum"
      ],
      "metadata": {
        "id": "KSIXi4gwUEdB"
      }
    },
    {
      "cell_type": "code",
      "source": [
        "num1 = int(input(\"Enter the first number: \"))\n",
        "num2 = int(input(\"Enter the second number: \"))\n",
        "sum = num1+num2\n",
        "print(\"Sum =\", sum)"
      ],
      "metadata": {
        "colab": {
          "base_uri": "https://localhost:8080/"
        },
        "id": "bflw6sdlUEmY",
        "outputId": "0cc6bb7a-6bb2-4f9a-d9ed-22dad5c0cc86"
      },
      "execution_count": 17,
      "outputs": [
        {
          "output_type": "stream",
          "name": "stdout",
          "text": [
            "Enter the first number: 4\n",
            "Enter the second number: 5\n",
            "Sum = 9\n"
          ]
        }
      ]
    }
  ]
}